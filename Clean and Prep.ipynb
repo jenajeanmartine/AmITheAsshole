{
 "cells": [
  {
   "cell_type": "markdown",
   "metadata": {},
   "source": [
    "# Am I The Asshole? - Data Wrangling, Feature Creation"
   ]
  },
  {
   "cell_type": "code",
   "execution_count": 1,
   "metadata": {},
   "outputs": [],
   "source": [
    "import pandas as pd"
   ]
  },
  {
   "cell_type": "code",
   "execution_count": 2,
   "metadata": {},
   "outputs": [],
   "source": [
    "data_submissions = pd.read_csv('datasets/AmItheAsshole_submission_4.csv')\n",
    "data_comments = pd.read_csv('datasets/AmItheAsshole_comment_4.csv')"
   ]
  },
  {
   "cell_type": "code",
   "execution_count": 3,
   "metadata": {},
   "outputs": [
    {
     "data": {
      "text/plain": [
       "(5000, 11)"
      ]
     },
     "execution_count": 3,
     "metadata": {},
     "output_type": "execute_result"
    }
   ],
   "source": [
    "data_submissions.shape"
   ]
  },
  {
   "cell_type": "code",
   "execution_count": 44,
   "metadata": {},
   "outputs": [
    {
     "data": {
      "text/html": [
       "<div>\n",
       "<style scoped>\n",
       "    .dataframe tbody tr th:only-of-type {\n",
       "        vertical-align: middle;\n",
       "    }\n",
       "\n",
       "    .dataframe tbody tr th {\n",
       "        vertical-align: top;\n",
       "    }\n",
       "\n",
       "    .dataframe thead th {\n",
       "        text-align: right;\n",
       "    }\n",
       "</style>\n",
       "<table border=\"1\" class=\"dataframe\">\n",
       "  <thead>\n",
       "    <tr style=\"text-align: right;\">\n",
       "      <th></th>\n",
       "      <th>parent_id</th>\n",
       "      <th>author</th>\n",
       "      <th>body</th>\n",
       "      <th>created_utc</th>\n",
       "      <th>parent</th>\n",
       "      <th>vote</th>\n",
       "    </tr>\n",
       "  </thead>\n",
       "  <tbody>\n",
       "    <tr>\n",
       "      <th>0</th>\n",
       "      <td>t3_eubxnz</td>\n",
       "      <td>countmontecristo</td>\n",
       "      <td>NTA. Tell them if you keep assuming you'll kno...</td>\n",
       "      <td>1580145916</td>\n",
       "      <td>eubxnz</td>\n",
       "      <td>0</td>\n",
       "    </tr>\n",
       "    <tr>\n",
       "      <th>1</th>\n",
       "      <td>t3_euobea</td>\n",
       "      <td>EvergreenHulk</td>\n",
       "      <td>NTA. You would think his sponsor would back yo...</td>\n",
       "      <td>1580145898</td>\n",
       "      <td>euobea</td>\n",
       "      <td>0</td>\n",
       "    </tr>\n",
       "    <tr>\n",
       "      <th>2</th>\n",
       "      <td>t3_eulpmr</td>\n",
       "      <td>koko775</td>\n",
       "      <td>NTA, the kid's being territorial. It's a good ...</td>\n",
       "      <td>1580145873</td>\n",
       "      <td>eulpmr</td>\n",
       "      <td>0</td>\n",
       "    </tr>\n",
       "    <tr>\n",
       "      <th>3</th>\n",
       "      <td>t3_eugtgu</td>\n",
       "      <td>countmontecristo</td>\n",
       "      <td>NTA. It's a concert, not karaoke. Next time as...</td>\n",
       "      <td>1580145870</td>\n",
       "      <td>eugtgu</td>\n",
       "      <td>0</td>\n",
       "    </tr>\n",
       "    <tr>\n",
       "      <th>4</th>\n",
       "      <td>t3_euq499</td>\n",
       "      <td>ragxdoll</td>\n",
       "      <td>NTA, you and your fiance are okay with the pla...</td>\n",
       "      <td>1580145860</td>\n",
       "      <td>euq499</td>\n",
       "      <td>0</td>\n",
       "    </tr>\n",
       "  </tbody>\n",
       "</table>\n",
       "</div>"
      ],
      "text/plain": [
       "   parent_id            author  \\\n",
       "0  t3_eubxnz  countmontecristo   \n",
       "1  t3_euobea     EvergreenHulk   \n",
       "2  t3_eulpmr           koko775   \n",
       "3  t3_eugtgu  countmontecristo   \n",
       "4  t3_euq499          ragxdoll   \n",
       "\n",
       "                                                body  created_utc  parent  \\\n",
       "0  NTA. Tell them if you keep assuming you'll kno...   1580145916  eubxnz   \n",
       "1  NTA. You would think his sponsor would back yo...   1580145898  euobea   \n",
       "2  NTA, the kid's being territorial. It's a good ...   1580145873  eulpmr   \n",
       "3  NTA. It's a concert, not karaoke. Next time as...   1580145870  eugtgu   \n",
       "4  NTA, you and your fiance are okay with the pla...   1580145860  euq499   \n",
       "\n",
       "   vote  \n",
       "0     0  \n",
       "1     0  \n",
       "2     0  \n",
       "3     0  \n",
       "4     0  "
      ]
     },
     "execution_count": 44,
     "metadata": {},
     "output_type": "execute_result"
    }
   ],
   "source": [
    "data_comments.head()\n"
   ]
  },
  {
   "cell_type": "code",
   "execution_count": 5,
   "metadata": {},
   "outputs": [
    {
     "data": {
      "text/plain": [
       "205569"
      ]
     },
     "execution_count": 5,
     "metadata": {},
     "output_type": "execute_result"
    }
   ],
   "source": [
    "data_submissions.shape\n",
    "data_submissions.num_comments.sum()"
   ]
  },
  {
   "cell_type": "code",
   "execution_count": 6,
   "metadata": {},
   "outputs": [
    {
     "data": {
      "text/plain": [
       "subreddit          object\n",
       "id                 object\n",
       "author             object\n",
       "author_fullname    object\n",
       "domain             object\n",
       "title              object\n",
       "selftext           object\n",
       "score               int64\n",
       "num_comments        int64\n",
       "created_utc         int64\n",
       "full_link          object\n",
       "dtype: object"
      ]
     },
     "execution_count": 6,
     "metadata": {},
     "output_type": "execute_result"
    }
   ],
   "source": [
    "data_submissions.dtypes"
   ]
  },
  {
   "cell_type": "code",
   "execution_count": 7,
   "metadata": {},
   "outputs": [
    {
     "data": {
      "text/html": [
       "<div>\n",
       "<style scoped>\n",
       "    .dataframe tbody tr th:only-of-type {\n",
       "        vertical-align: middle;\n",
       "    }\n",
       "\n",
       "    .dataframe tbody tr th {\n",
       "        vertical-align: top;\n",
       "    }\n",
       "\n",
       "    .dataframe thead th {\n",
       "        text-align: right;\n",
       "    }\n",
       "</style>\n",
       "<table border=\"1\" class=\"dataframe\">\n",
       "  <thead>\n",
       "    <tr style=\"text-align: right;\">\n",
       "      <th></th>\n",
       "      <th>score</th>\n",
       "      <th>num_comments</th>\n",
       "      <th>created_utc</th>\n",
       "    </tr>\n",
       "  </thead>\n",
       "  <tbody>\n",
       "    <tr>\n",
       "      <th>count</th>\n",
       "      <td>5000.000000</td>\n",
       "      <td>5000.000000</td>\n",
       "      <td>5.000000e+03</td>\n",
       "    </tr>\n",
       "    <tr>\n",
       "      <th>mean</th>\n",
       "      <td>0.999600</td>\n",
       "      <td>41.113800</td>\n",
       "      <td>1.579907e+09</td>\n",
       "    </tr>\n",
       "    <tr>\n",
       "      <th>std</th>\n",
       "      <td>0.019998</td>\n",
       "      <td>157.073987</td>\n",
       "      <td>1.370612e+05</td>\n",
       "    </tr>\n",
       "    <tr>\n",
       "      <th>min</th>\n",
       "      <td>0.000000</td>\n",
       "      <td>0.000000</td>\n",
       "      <td>1.579663e+09</td>\n",
       "    </tr>\n",
       "    <tr>\n",
       "      <th>25%</th>\n",
       "      <td>1.000000</td>\n",
       "      <td>2.000000</td>\n",
       "      <td>1.579795e+09</td>\n",
       "    </tr>\n",
       "    <tr>\n",
       "      <th>50%</th>\n",
       "      <td>1.000000</td>\n",
       "      <td>13.000000</td>\n",
       "      <td>1.579904e+09</td>\n",
       "    </tr>\n",
       "    <tr>\n",
       "      <th>75%</th>\n",
       "      <td>1.000000</td>\n",
       "      <td>28.000000</td>\n",
       "      <td>1.580024e+09</td>\n",
       "    </tr>\n",
       "    <tr>\n",
       "      <th>max</th>\n",
       "      <td>1.000000</td>\n",
       "      <td>5540.000000</td>\n",
       "      <td>1.580145e+09</td>\n",
       "    </tr>\n",
       "  </tbody>\n",
       "</table>\n",
       "</div>"
      ],
      "text/plain": [
       "             score  num_comments   created_utc\n",
       "count  5000.000000   5000.000000  5.000000e+03\n",
       "mean      0.999600     41.113800  1.579907e+09\n",
       "std       0.019998    157.073987  1.370612e+05\n",
       "min       0.000000      0.000000  1.579663e+09\n",
       "25%       1.000000      2.000000  1.579795e+09\n",
       "50%       1.000000     13.000000  1.579904e+09\n",
       "75%       1.000000     28.000000  1.580024e+09\n",
       "max       1.000000   5540.000000  1.580145e+09"
      ]
     },
     "execution_count": 7,
     "metadata": {},
     "output_type": "execute_result"
    }
   ],
   "source": [
    "data_submissions.describe()"
   ]
  },
  {
   "cell_type": "code",
   "execution_count": 8,
   "metadata": {},
   "outputs": [],
   "source": [
    "data_comments.head()\n",
    "data_comments['parent'] = [id.split('_')[1] for id in data_comments['parent_id']]"
   ]
  },
  {
   "cell_type": "code",
   "execution_count": 9,
   "metadata": {},
   "outputs": [
    {
     "data": {
      "text/html": [
       "<div>\n",
       "<style scoped>\n",
       "    .dataframe tbody tr th:only-of-type {\n",
       "        vertical-align: middle;\n",
       "    }\n",
       "\n",
       "    .dataframe tbody tr th {\n",
       "        vertical-align: top;\n",
       "    }\n",
       "\n",
       "    .dataframe thead th {\n",
       "        text-align: right;\n",
       "    }\n",
       "</style>\n",
       "<table border=\"1\" class=\"dataframe\">\n",
       "  <thead>\n",
       "    <tr style=\"text-align: right;\">\n",
       "      <th></th>\n",
       "      <th>parent_id</th>\n",
       "      <th>author</th>\n",
       "      <th>body</th>\n",
       "      <th>created_utc</th>\n",
       "      <th>parent</th>\n",
       "    </tr>\n",
       "  </thead>\n",
       "  <tbody>\n",
       "    <tr>\n",
       "      <th>0</th>\n",
       "      <td>t1_ffqmieq</td>\n",
       "      <td>sthetic</td>\n",
       "      <td>No kidding!\\n\\nOP: My brother and I, growing u...</td>\n",
       "      <td>1580145934</td>\n",
       "      <td>ffqmieq</td>\n",
       "    </tr>\n",
       "    <tr>\n",
       "      <th>1</th>\n",
       "      <td>t3_eur1sl</td>\n",
       "      <td>AutoModerator</td>\n",
       "      <td>Your post was removed because it exceeds the 3...</td>\n",
       "      <td>1580145932</td>\n",
       "      <td>eur1sl</td>\n",
       "    </tr>\n",
       "    <tr>\n",
       "      <th>2</th>\n",
       "      <td>t1_ffqqg8r</td>\n",
       "      <td>KogMaster_9000</td>\n",
       "      <td>It sounds like you have no idea what vegan foo...</td>\n",
       "      <td>1580145923</td>\n",
       "      <td>ffqqg8r</td>\n",
       "    </tr>\n",
       "    <tr>\n",
       "      <th>3</th>\n",
       "      <td>t1_ffqv0v8</td>\n",
       "      <td>sancristobal3</td>\n",
       "      <td>It’s the stupidity of his position that shocks...</td>\n",
       "      <td>1580145922</td>\n",
       "      <td>ffqv0v8</td>\n",
       "    </tr>\n",
       "    <tr>\n",
       "      <th>4</th>\n",
       "      <td>t1_ffqv78v</td>\n",
       "      <td>familydinneraitaaaa</td>\n",
       "      <td>That was part of why I didn’t ask. He works as...</td>\n",
       "      <td>1580145922</td>\n",
       "      <td>ffqv78v</td>\n",
       "    </tr>\n",
       "  </tbody>\n",
       "</table>\n",
       "</div>"
      ],
      "text/plain": [
       "    parent_id               author  \\\n",
       "0  t1_ffqmieq              sthetic   \n",
       "1   t3_eur1sl        AutoModerator   \n",
       "2  t1_ffqqg8r       KogMaster_9000   \n",
       "3  t1_ffqv0v8        sancristobal3   \n",
       "4  t1_ffqv78v  familydinneraitaaaa   \n",
       "\n",
       "                                                body  created_utc   parent  \n",
       "0  No kidding!\\n\\nOP: My brother and I, growing u...   1580145934  ffqmieq  \n",
       "1  Your post was removed because it exceeds the 3...   1580145932   eur1sl  \n",
       "2  It sounds like you have no idea what vegan foo...   1580145923  ffqqg8r  \n",
       "3  It’s the stupidity of his position that shocks...   1580145922  ffqv0v8  \n",
       "4  That was part of why I didn’t ask. He works as...   1580145922  ffqv78v  "
      ]
     },
     "execution_count": 9,
     "metadata": {},
     "output_type": "execute_result"
    }
   ],
   "source": [
    "data_comments.head()"
   ]
  },
  {
   "cell_type": "code",
   "execution_count": 10,
   "metadata": {},
   "outputs": [],
   "source": [
    "parent_ids = data_submissions['id'].to_list()"
   ]
  },
  {
   "cell_type": "code",
   "execution_count": 11,
   "metadata": {},
   "outputs": [
    {
     "data": {
      "text/plain": [
       "5000"
      ]
     },
     "execution_count": 11,
     "metadata": {},
     "output_type": "execute_result"
    }
   ],
   "source": [
    "len(parent_ids)\n"
   ]
  },
  {
   "cell_type": "code",
   "execution_count": 12,
   "metadata": {},
   "outputs": [
    {
     "data": {
      "text/plain": [
       "5000"
      ]
     },
     "execution_count": 12,
     "metadata": {},
     "output_type": "execute_result"
    }
   ],
   "source": [
    "# id is unique for parent post\n",
    "data_submissions['id'].nunique()"
   ]
  },
  {
   "cell_type": "markdown",
   "metadata": {},
   "source": [
    "### Update comments dataframe to include only comments corresponding to submissions"
   ]
  },
  {
   "cell_type": "code",
   "execution_count": 13,
   "metadata": {},
   "outputs": [
    {
     "data": {
      "text/plain": [
       "389506"
      ]
     },
     "execution_count": 13,
     "metadata": {},
     "output_type": "execute_result"
    }
   ],
   "source": [
    "irrelevant_ids = []\n",
    "for i,p in enumerate(data_comments['parent']):\n",
    "    if p not in parent_ids:\n",
    "        irrelevant_ids.append(i)\n",
    "len(irrelevant_ids) "
   ]
  },
  {
   "cell_type": "code",
   "execution_count": 14,
   "metadata": {},
   "outputs": [],
   "source": [
    "data_comments.drop(irrelevant_ids, inplace=True)\n",
    "#data_comments.shape #(110494, 5)"
   ]
  },
  {
   "cell_type": "code",
   "execution_count": 15,
   "metadata": {},
   "outputs": [],
   "source": [
    "data_comments.reset_index(inplace=True, drop=True)"
   ]
  },
  {
   "cell_type": "code",
   "execution_count": 16,
   "metadata": {},
   "outputs": [
    {
     "data": {
      "text/html": [
       "<div>\n",
       "<style scoped>\n",
       "    .dataframe tbody tr th:only-of-type {\n",
       "        vertical-align: middle;\n",
       "    }\n",
       "\n",
       "    .dataframe tbody tr th {\n",
       "        vertical-align: top;\n",
       "    }\n",
       "\n",
       "    .dataframe thead th {\n",
       "        text-align: right;\n",
       "    }\n",
       "</style>\n",
       "<table border=\"1\" class=\"dataframe\">\n",
       "  <thead>\n",
       "    <tr style=\"text-align: right;\">\n",
       "      <th></th>\n",
       "      <th>subreddit</th>\n",
       "      <th>id</th>\n",
       "      <th>author</th>\n",
       "      <th>author_fullname</th>\n",
       "      <th>domain</th>\n",
       "      <th>title</th>\n",
       "      <th>selftext</th>\n",
       "      <th>score</th>\n",
       "      <th>num_comments</th>\n",
       "      <th>created_utc</th>\n",
       "      <th>full_link</th>\n",
       "    </tr>\n",
       "  </thead>\n",
       "  <tbody>\n",
       "    <tr>\n",
       "      <th>0</th>\n",
       "      <td>AmItheAsshole</td>\n",
       "      <td>euqsgi</td>\n",
       "      <td>no_name_maddox</td>\n",
       "      <td>t2_27tzbs85</td>\n",
       "      <td>self.AmItheAsshole</td>\n",
       "      <td>AITA that hates social media when someone famo...</td>\n",
       "      <td>[removed]</td>\n",
       "      <td>1</td>\n",
       "      <td>2</td>\n",
       "      <td>1580144914</td>\n",
       "      <td>https://www.reddit.com/r/AmItheAsshole/comment...</td>\n",
       "    </tr>\n",
       "    <tr>\n",
       "      <th>1</th>\n",
       "      <td>AmItheAsshole</td>\n",
       "      <td>euqs2b</td>\n",
       "      <td>Lara_Bee</td>\n",
       "      <td>t2_5jh7vath</td>\n",
       "      <td>self.AmItheAsshole</td>\n",
       "      <td>AITA for getting my daughter’s hair cut?</td>\n",
       "      <td>Our daughter is 5. My husband has always wante...</td>\n",
       "      <td>1</td>\n",
       "      <td>5</td>\n",
       "      <td>1580144875</td>\n",
       "      <td>https://www.reddit.com/r/AmItheAsshole/comment...</td>\n",
       "    </tr>\n",
       "    <tr>\n",
       "      <th>2</th>\n",
       "      <td>AmItheAsshole</td>\n",
       "      <td>euqrvj</td>\n",
       "      <td>Katdroyd</td>\n",
       "      <td>t2_1xihwele</td>\n",
       "      <td>self.AmItheAsshole</td>\n",
       "      <td>AITA for expecting my husband's help as soon a...</td>\n",
       "      <td>I spend all day home with kids age 5 and 7. Ru...</td>\n",
       "      <td>1</td>\n",
       "      <td>6</td>\n",
       "      <td>1580144854</td>\n",
       "      <td>https://www.reddit.com/r/AmItheAsshole/comment...</td>\n",
       "    </tr>\n",
       "    <tr>\n",
       "      <th>3</th>\n",
       "      <td>AmItheAsshole</td>\n",
       "      <td>euqrtz</td>\n",
       "      <td>porter_throwaway</td>\n",
       "      <td>t2_5e7ymd4j</td>\n",
       "      <td>self.AmItheAsshole</td>\n",
       "      <td>AITA for making my roommate pay rent on time</td>\n",
       "      <td>So I live in an downtown apartment with a bunc...</td>\n",
       "      <td>1</td>\n",
       "      <td>3</td>\n",
       "      <td>1580144849</td>\n",
       "      <td>https://www.reddit.com/r/AmItheAsshole/comment...</td>\n",
       "    </tr>\n",
       "    <tr>\n",
       "      <th>4</th>\n",
       "      <td>AmItheAsshole</td>\n",
       "      <td>euqrnl</td>\n",
       "      <td>notyourbabygirl15</td>\n",
       "      <td>t2_42oqhea5</td>\n",
       "      <td>self.AmItheAsshole</td>\n",
       "      <td>AITA? She slept with her sick sisters boyfriend</td>\n",
       "      <td>\\nOkay so a little back story, my bestfriend o...</td>\n",
       "      <td>1</td>\n",
       "      <td>2</td>\n",
       "      <td>1580144834</td>\n",
       "      <td>https://www.reddit.com/r/AmItheAsshole/comment...</td>\n",
       "    </tr>\n",
       "    <tr>\n",
       "      <th>...</th>\n",
       "      <td>...</td>\n",
       "      <td>...</td>\n",
       "      <td>...</td>\n",
       "      <td>...</td>\n",
       "      <td>...</td>\n",
       "      <td>...</td>\n",
       "      <td>...</td>\n",
       "      <td>...</td>\n",
       "      <td>...</td>\n",
       "      <td>...</td>\n",
       "      <td>...</td>\n",
       "    </tr>\n",
       "    <tr>\n",
       "      <th>4995</th>\n",
       "      <td>AmItheAsshole</td>\n",
       "      <td>es64s6</td>\n",
       "      <td>JSouthlake</td>\n",
       "      <td>t2_3i94xgnp</td>\n",
       "      <td>self.AmItheAsshole</td>\n",
       "      <td>WIBTA If I secretly trained my neighbors dogs ...</td>\n",
       "      <td>Redid this to fit the rules.\\n\\nSo here it is...</td>\n",
       "      <td>1</td>\n",
       "      <td>19</td>\n",
       "      <td>1579663669</td>\n",
       "      <td>https://www.reddit.com/r/AmItheAsshole/comment...</td>\n",
       "    </tr>\n",
       "    <tr>\n",
       "      <th>4996</th>\n",
       "      <td>AmItheAsshole</td>\n",
       "      <td>es643t</td>\n",
       "      <td>Dylaniscool5867</td>\n",
       "      <td>t2_5hoyjcpx</td>\n",
       "      <td>self.AmItheAsshole</td>\n",
       "      <td>AITA for asking out my best friend’s former cr...</td>\n",
       "      <td>So to start this out a few months ago my best ...</td>\n",
       "      <td>1</td>\n",
       "      <td>9</td>\n",
       "      <td>1579663575</td>\n",
       "      <td>https://www.reddit.com/r/AmItheAsshole/comment...</td>\n",
       "    </tr>\n",
       "    <tr>\n",
       "      <th>4997</th>\n",
       "      <td>AmItheAsshole</td>\n",
       "      <td>es63h5</td>\n",
       "      <td>autumnssong</td>\n",
       "      <td>t2_53mx2fx5</td>\n",
       "      <td>self.AmItheAsshole</td>\n",
       "      <td>AITA for not wanting to be friends anymore?</td>\n",
       "      <td>My (16f) friend (16m) cut me off in December f...</td>\n",
       "      <td>1</td>\n",
       "      <td>16</td>\n",
       "      <td>1579663488</td>\n",
       "      <td>https://www.reddit.com/r/AmItheAsshole/comment...</td>\n",
       "    </tr>\n",
       "    <tr>\n",
       "      <th>4998</th>\n",
       "      <td>AmItheAsshole</td>\n",
       "      <td>es62zm</td>\n",
       "      <td>DisruptiveKnob</td>\n",
       "      <td>t2_kq3i6zb</td>\n",
       "      <td>self.AmItheAsshole</td>\n",
       "      <td>AITA for agreeing with my sister asking my wif...</td>\n",
       "      <td>My sister is due next month and messaged my wi...</td>\n",
       "      <td>1</td>\n",
       "      <td>6</td>\n",
       "      <td>1579663421</td>\n",
       "      <td>https://www.reddit.com/r/AmItheAsshole/comment...</td>\n",
       "    </tr>\n",
       "    <tr>\n",
       "      <th>4999</th>\n",
       "      <td>AmItheAsshole</td>\n",
       "      <td>es613l</td>\n",
       "      <td>joeygames8</td>\n",
       "      <td>t2_4dvyyrq7</td>\n",
       "      <td>self.AmItheAsshole</td>\n",
       "      <td>AITA for not wanting to be friends with my nei...</td>\n",
       "      <td>My neighbor(female) has lived across the stree...</td>\n",
       "      <td>1</td>\n",
       "      <td>6</td>\n",
       "      <td>1579663163</td>\n",
       "      <td>https://www.reddit.com/r/AmItheAsshole/comment...</td>\n",
       "    </tr>\n",
       "  </tbody>\n",
       "</table>\n",
       "<p>5000 rows × 11 columns</p>\n",
       "</div>"
      ],
      "text/plain": [
       "          subreddit      id             author author_fullname  \\\n",
       "0     AmItheAsshole  euqsgi     no_name_maddox     t2_27tzbs85   \n",
       "1     AmItheAsshole  euqs2b           Lara_Bee     t2_5jh7vath   \n",
       "2     AmItheAsshole  euqrvj           Katdroyd     t2_1xihwele   \n",
       "3     AmItheAsshole  euqrtz   porter_throwaway     t2_5e7ymd4j   \n",
       "4     AmItheAsshole  euqrnl  notyourbabygirl15     t2_42oqhea5   \n",
       "...             ...     ...                ...             ...   \n",
       "4995  AmItheAsshole  es64s6         JSouthlake     t2_3i94xgnp   \n",
       "4996  AmItheAsshole  es643t    Dylaniscool5867     t2_5hoyjcpx   \n",
       "4997  AmItheAsshole  es63h5        autumnssong     t2_53mx2fx5   \n",
       "4998  AmItheAsshole  es62zm     DisruptiveKnob      t2_kq3i6zb   \n",
       "4999  AmItheAsshole  es613l         joeygames8     t2_4dvyyrq7   \n",
       "\n",
       "                  domain                                              title  \\\n",
       "0     self.AmItheAsshole  AITA that hates social media when someone famo...   \n",
       "1     self.AmItheAsshole           AITA for getting my daughter’s hair cut?   \n",
       "2     self.AmItheAsshole  AITA for expecting my husband's help as soon a...   \n",
       "3     self.AmItheAsshole       AITA for making my roommate pay rent on time   \n",
       "4     self.AmItheAsshole    AITA? She slept with her sick sisters boyfriend   \n",
       "...                  ...                                                ...   \n",
       "4995  self.AmItheAsshole  WIBTA If I secretly trained my neighbors dogs ...   \n",
       "4996  self.AmItheAsshole  AITA for asking out my best friend’s former cr...   \n",
       "4997  self.AmItheAsshole        AITA for not wanting to be friends anymore?   \n",
       "4998  self.AmItheAsshole  AITA for agreeing with my sister asking my wif...   \n",
       "4999  self.AmItheAsshole  AITA for not wanting to be friends with my nei...   \n",
       "\n",
       "                                               selftext  score  num_comments  \\\n",
       "0                                             [removed]      1             2   \n",
       "1     Our daughter is 5. My husband has always wante...      1             5   \n",
       "2     I spend all day home with kids age 5 and 7. Ru...      1             6   \n",
       "3     So I live in an downtown apartment with a bunc...      1             3   \n",
       "4     \\nOkay so a little back story, my bestfriend o...      1             2   \n",
       "...                                                 ...    ...           ...   \n",
       "4995   Redid this to fit the rules.\\n\\nSo here it is...      1            19   \n",
       "4996  So to start this out a few months ago my best ...      1             9   \n",
       "4997  My (16f) friend (16m) cut me off in December f...      1            16   \n",
       "4998  My sister is due next month and messaged my wi...      1             6   \n",
       "4999  My neighbor(female) has lived across the stree...      1             6   \n",
       "\n",
       "      created_utc                                          full_link  \n",
       "0      1580144914  https://www.reddit.com/r/AmItheAsshole/comment...  \n",
       "1      1580144875  https://www.reddit.com/r/AmItheAsshole/comment...  \n",
       "2      1580144854  https://www.reddit.com/r/AmItheAsshole/comment...  \n",
       "3      1580144849  https://www.reddit.com/r/AmItheAsshole/comment...  \n",
       "4      1580144834  https://www.reddit.com/r/AmItheAsshole/comment...  \n",
       "...           ...                                                ...  \n",
       "4995   1579663669  https://www.reddit.com/r/AmItheAsshole/comment...  \n",
       "4996   1579663575  https://www.reddit.com/r/AmItheAsshole/comment...  \n",
       "4997   1579663488  https://www.reddit.com/r/AmItheAsshole/comment...  \n",
       "4998   1579663421  https://www.reddit.com/r/AmItheAsshole/comment...  \n",
       "4999   1579663163  https://www.reddit.com/r/AmItheAsshole/comment...  \n",
       "\n",
       "[5000 rows x 11 columns]"
      ]
     },
     "execution_count": 16,
     "metadata": {},
     "output_type": "execute_result"
    }
   ],
   "source": [
    "data_submissions"
   ]
  },
  {
   "cell_type": "markdown",
   "metadata": {},
   "source": [
    "### Create total comments feature for each submission (built in num_cols seems incorrect). Total comments includes the ones where a vote was not found, and those ones are later removed from the data."
   ]
  },
  {
   "cell_type": "code",
   "execution_count": 17,
   "metadata": {},
   "outputs": [],
   "source": [
    "for sub_id in data_submissions['id'].unique():\n",
    "    count = data_comments.loc[data_comments['parent'] == sub_id]['parent'].count()\n",
    "    data_submissions.loc[data_submissions['id'] == sub_id, 'total_comments'] = count"
   ]
  },
  {
   "cell_type": "code",
   "execution_count": 18,
   "metadata": {
    "scrolled": true
   },
   "outputs": [
    {
     "data": {
      "text/html": [
       "<div>\n",
       "<style scoped>\n",
       "    .dataframe tbody tr th:only-of-type {\n",
       "        vertical-align: middle;\n",
       "    }\n",
       "\n",
       "    .dataframe tbody tr th {\n",
       "        vertical-align: top;\n",
       "    }\n",
       "\n",
       "    .dataframe thead th {\n",
       "        text-align: right;\n",
       "    }\n",
       "</style>\n",
       "<table border=\"1\" class=\"dataframe\">\n",
       "  <thead>\n",
       "    <tr style=\"text-align: right;\">\n",
       "      <th></th>\n",
       "      <th>subreddit</th>\n",
       "      <th>id</th>\n",
       "      <th>author</th>\n",
       "      <th>author_fullname</th>\n",
       "      <th>domain</th>\n",
       "      <th>title</th>\n",
       "      <th>selftext</th>\n",
       "      <th>score</th>\n",
       "      <th>num_comments</th>\n",
       "      <th>created_utc</th>\n",
       "      <th>full_link</th>\n",
       "      <th>total_comments</th>\n",
       "    </tr>\n",
       "  </thead>\n",
       "  <tbody>\n",
       "    <tr>\n",
       "      <th>1354</th>\n",
       "      <td>AmItheAsshole</td>\n",
       "      <td>eu2d5u</td>\n",
       "      <td>noahfro16</td>\n",
       "      <td>t2_34lxinur</td>\n",
       "      <td>self.AmItheAsshole</td>\n",
       "      <td>aita for getting mad at my friend for not sayi...</td>\n",
       "      <td>[removed]</td>\n",
       "      <td>1</td>\n",
       "      <td>0</td>\n",
       "      <td>1580014456</td>\n",
       "      <td>https://www.reddit.com/r/AmItheAsshole/comment...</td>\n",
       "      <td>0.0</td>\n",
       "    </tr>\n",
       "    <tr>\n",
       "      <th>1938</th>\n",
       "      <td>AmItheAsshole</td>\n",
       "      <td>etsa76</td>\n",
       "      <td>looktwentytwo</td>\n",
       "      <td>t2_5huvprdv</td>\n",
       "      <td>self.AmItheAsshole</td>\n",
       "      <td>AITA for not reaching out to friend whos bf is...</td>\n",
       "      <td>[removed]</td>\n",
       "      <td>1</td>\n",
       "      <td>1</td>\n",
       "      <td>1579967139</td>\n",
       "      <td>https://www.reddit.com/r/AmItheAsshole/comment...</td>\n",
       "      <td>0.0</td>\n",
       "    </tr>\n",
       "    <tr>\n",
       "      <th>1974</th>\n",
       "      <td>AmItheAsshole</td>\n",
       "      <td>etrflk</td>\n",
       "      <td>donkeytoy</td>\n",
       "      <td>t2_5iw4g3d7</td>\n",
       "      <td>self.AmItheAsshole</td>\n",
       "      <td>aita for the way I reacted to my wife</td>\n",
       "      <td>So me and wife got married five years back. We...</td>\n",
       "      <td>1</td>\n",
       "      <td>0</td>\n",
       "      <td>1579962717</td>\n",
       "      <td>https://www.reddit.com/r/AmItheAsshole/comment...</td>\n",
       "      <td>0.0</td>\n",
       "    </tr>\n",
       "    <tr>\n",
       "      <th>2695</th>\n",
       "      <td>AmItheAsshole</td>\n",
       "      <td>ete58q</td>\n",
       "      <td>KirbAppeal</td>\n",
       "      <td>t2_7l342</td>\n",
       "      <td>self.AmItheAsshole</td>\n",
       "      <td>AITA for giving up on a friend because of soci...</td>\n",
       "      <td>I’ll try to stay concise, I tend to write a lo...</td>\n",
       "      <td>1</td>\n",
       "      <td>0</td>\n",
       "      <td>1579889434</td>\n",
       "      <td>https://www.reddit.com/r/AmItheAsshole/comment...</td>\n",
       "      <td>0.0</td>\n",
       "    </tr>\n",
       "    <tr>\n",
       "      <th>2718</th>\n",
       "      <td>AmItheAsshole</td>\n",
       "      <td>etdkje</td>\n",
       "      <td>subguy1979</td>\n",
       "      <td>t2_35ltxtvf</td>\n",
       "      <td>self.AmItheAsshole</td>\n",
       "      <td>So HR called me down.</td>\n",
       "      <td>[removed]</td>\n",
       "      <td>1</td>\n",
       "      <td>0</td>\n",
       "      <td>1579887100</td>\n",
       "      <td>https://www.reddit.com/r/AmItheAsshole/comment...</td>\n",
       "      <td>0.0</td>\n",
       "    </tr>\n",
       "    <tr>\n",
       "      <th>2719</th>\n",
       "      <td>AmItheAsshole</td>\n",
       "      <td>etdjrp</td>\n",
       "      <td>SatireDiva74</td>\n",
       "      <td>t2_4kcnhwhs</td>\n",
       "      <td>self.AmItheAsshole</td>\n",
       "      <td>AITA For expecting strangers not to speak to m...</td>\n",
       "      <td>[removed]</td>\n",
       "      <td>1</td>\n",
       "      <td>0</td>\n",
       "      <td>1579887014</td>\n",
       "      <td>https://www.reddit.com/r/AmItheAsshole/comment...</td>\n",
       "      <td>0.0</td>\n",
       "    </tr>\n",
       "    <tr>\n",
       "      <th>2750</th>\n",
       "      <td>AmItheAsshole</td>\n",
       "      <td>etd3m6</td>\n",
       "      <td>WembleyToast</td>\n",
       "      <td>t2_5g0ogcg9</td>\n",
       "      <td>self.AmItheAsshole</td>\n",
       "      <td>AITA for wanting to be realistic about our hyp...</td>\n",
       "      <td>[removed]</td>\n",
       "      <td>1</td>\n",
       "      <td>1</td>\n",
       "      <td>1579885176</td>\n",
       "      <td>https://www.reddit.com/r/AmItheAsshole/comment...</td>\n",
       "      <td>0.0</td>\n",
       "    </tr>\n",
       "    <tr>\n",
       "      <th>2771</th>\n",
       "      <td>AmItheAsshole</td>\n",
       "      <td>etcv0p</td>\n",
       "      <td>someweeb05</td>\n",
       "      <td>t2_4xeafeak</td>\n",
       "      <td>self.AmItheAsshole</td>\n",
       "      <td>My online girl left me because I was too cling...</td>\n",
       "      <td>[removed]</td>\n",
       "      <td>1</td>\n",
       "      <td>1</td>\n",
       "      <td>1579884141</td>\n",
       "      <td>https://www.reddit.com/r/AmItheAsshole/comment...</td>\n",
       "      <td>0.0</td>\n",
       "    </tr>\n",
       "    <tr>\n",
       "      <th>2786</th>\n",
       "      <td>AmItheAsshole</td>\n",
       "      <td>etci62</td>\n",
       "      <td>mbw101713</td>\n",
       "      <td>t2_4ychbvd3</td>\n",
       "      <td>self.AmItheAsshole</td>\n",
       "      <td>hitting up dealer in the night time?</td>\n",
       "      <td>[removed]</td>\n",
       "      <td>1</td>\n",
       "      <td>1</td>\n",
       "      <td>1579882577</td>\n",
       "      <td>https://www.reddit.com/r/AmItheAsshole/comment...</td>\n",
       "      <td>0.0</td>\n",
       "    </tr>\n",
       "    <tr>\n",
       "      <th>2839</th>\n",
       "      <td>AmItheAsshole</td>\n",
       "      <td>etb610</td>\n",
       "      <td>gradesallmatter</td>\n",
       "      <td>t2_5imf7u5y</td>\n",
       "      <td>self.AmItheAsshole</td>\n",
       "      <td>aita for being dissapointed by my parents</td>\n",
       "      <td>[removed]</td>\n",
       "      <td>1</td>\n",
       "      <td>0</td>\n",
       "      <td>1579876401</td>\n",
       "      <td>https://www.reddit.com/r/AmItheAsshole/comment...</td>\n",
       "      <td>0.0</td>\n",
       "    </tr>\n",
       "    <tr>\n",
       "      <th>3726</th>\n",
       "      <td>AmItheAsshole</td>\n",
       "      <td>esvdtt</td>\n",
       "      <td>kinggmail</td>\n",
       "      <td>t2_5idlw193</td>\n",
       "      <td>self.AmItheAsshole</td>\n",
       "      <td>aita for not wanting my sister to move in with us</td>\n",
       "      <td>Back story. I am a male and i have a sister. M...</td>\n",
       "      <td>1</td>\n",
       "      <td>0</td>\n",
       "      <td>1579796584</td>\n",
       "      <td>https://www.reddit.com/r/AmItheAsshole/comment...</td>\n",
       "      <td>0.0</td>\n",
       "    </tr>\n",
       "    <tr>\n",
       "      <th>3743</th>\n",
       "      <td>AmItheAsshole</td>\n",
       "      <td>esuzbj</td>\n",
       "      <td>kingofkrain</td>\n",
       "      <td>t2_5ideyntt</td>\n",
       "      <td>self.AmItheAsshole</td>\n",
       "      <td>aita for not wanting my sister to move in with...</td>\n",
       "      <td>[removed]</td>\n",
       "      <td>1</td>\n",
       "      <td>0</td>\n",
       "      <td>1579794936</td>\n",
       "      <td>https://www.reddit.com/r/AmItheAsshole/comment...</td>\n",
       "      <td>0.0</td>\n",
       "    </tr>\n",
       "    <tr>\n",
       "      <th>4452</th>\n",
       "      <td>AmItheAsshole</td>\n",
       "      <td>eshfyv</td>\n",
       "      <td>Adventurous-Device</td>\n",
       "      <td>t2_5gt3hdgb</td>\n",
       "      <td>self.AmItheAsshole</td>\n",
       "      <td>AITA for wishing my children didn't exist?</td>\n",
       "      <td>[removed]</td>\n",
       "      <td>1</td>\n",
       "      <td>0</td>\n",
       "      <td>1579724034</td>\n",
       "      <td>https://www.reddit.com/r/AmItheAsshole/comment...</td>\n",
       "      <td>0.0</td>\n",
       "    </tr>\n",
       "    <tr>\n",
       "      <th>4871</th>\n",
       "      <td>AmItheAsshole</td>\n",
       "      <td>es7t4j</td>\n",
       "      <td>aitathrowaway271974</td>\n",
       "      <td>t2_55lpfvot</td>\n",
       "      <td>self.AmItheAsshole</td>\n",
       "      <td>AITA for doubting my friend who was sexually a...</td>\n",
       "      <td>[removed]</td>\n",
       "      <td>1</td>\n",
       "      <td>0</td>\n",
       "      <td>1579672868</td>\n",
       "      <td>https://www.reddit.com/r/AmItheAsshole/comment...</td>\n",
       "      <td>0.0</td>\n",
       "    </tr>\n",
       "  </tbody>\n",
       "</table>\n",
       "</div>"
      ],
      "text/plain": [
       "          subreddit      id               author author_fullname  \\\n",
       "1354  AmItheAsshole  eu2d5u            noahfro16     t2_34lxinur   \n",
       "1938  AmItheAsshole  etsa76        looktwentytwo     t2_5huvprdv   \n",
       "1974  AmItheAsshole  etrflk            donkeytoy     t2_5iw4g3d7   \n",
       "2695  AmItheAsshole  ete58q           KirbAppeal        t2_7l342   \n",
       "2718  AmItheAsshole  etdkje           subguy1979     t2_35ltxtvf   \n",
       "2719  AmItheAsshole  etdjrp         SatireDiva74     t2_4kcnhwhs   \n",
       "2750  AmItheAsshole  etd3m6         WembleyToast     t2_5g0ogcg9   \n",
       "2771  AmItheAsshole  etcv0p           someweeb05     t2_4xeafeak   \n",
       "2786  AmItheAsshole  etci62            mbw101713     t2_4ychbvd3   \n",
       "2839  AmItheAsshole  etb610      gradesallmatter     t2_5imf7u5y   \n",
       "3726  AmItheAsshole  esvdtt            kinggmail     t2_5idlw193   \n",
       "3743  AmItheAsshole  esuzbj          kingofkrain     t2_5ideyntt   \n",
       "4452  AmItheAsshole  eshfyv   Adventurous-Device     t2_5gt3hdgb   \n",
       "4871  AmItheAsshole  es7t4j  aitathrowaway271974     t2_55lpfvot   \n",
       "\n",
       "                  domain                                              title  \\\n",
       "1354  self.AmItheAsshole  aita for getting mad at my friend for not sayi...   \n",
       "1938  self.AmItheAsshole  AITA for not reaching out to friend whos bf is...   \n",
       "1974  self.AmItheAsshole              aita for the way I reacted to my wife   \n",
       "2695  self.AmItheAsshole  AITA for giving up on a friend because of soci...   \n",
       "2718  self.AmItheAsshole                              So HR called me down.   \n",
       "2719  self.AmItheAsshole  AITA For expecting strangers not to speak to m...   \n",
       "2750  self.AmItheAsshole  AITA for wanting to be realistic about our hyp...   \n",
       "2771  self.AmItheAsshole  My online girl left me because I was too cling...   \n",
       "2786  self.AmItheAsshole               hitting up dealer in the night time?   \n",
       "2839  self.AmItheAsshole          aita for being dissapointed by my parents   \n",
       "3726  self.AmItheAsshole  aita for not wanting my sister to move in with us   \n",
       "3743  self.AmItheAsshole  aita for not wanting my sister to move in with...   \n",
       "4452  self.AmItheAsshole         AITA for wishing my children didn't exist?   \n",
       "4871  self.AmItheAsshole  AITA for doubting my friend who was sexually a...   \n",
       "\n",
       "                                               selftext  score  num_comments  \\\n",
       "1354                                          [removed]      1             0   \n",
       "1938                                          [removed]      1             1   \n",
       "1974  So me and wife got married five years back. We...      1             0   \n",
       "2695  I’ll try to stay concise, I tend to write a lo...      1             0   \n",
       "2718                                          [removed]      1             0   \n",
       "2719                                          [removed]      1             0   \n",
       "2750                                          [removed]      1             1   \n",
       "2771                                          [removed]      1             1   \n",
       "2786                                          [removed]      1             1   \n",
       "2839                                          [removed]      1             0   \n",
       "3726  Back story. I am a male and i have a sister. M...      1             0   \n",
       "3743                                          [removed]      1             0   \n",
       "4452                                          [removed]      1             0   \n",
       "4871                                          [removed]      1             0   \n",
       "\n",
       "      created_utc                                          full_link  \\\n",
       "1354   1580014456  https://www.reddit.com/r/AmItheAsshole/comment...   \n",
       "1938   1579967139  https://www.reddit.com/r/AmItheAsshole/comment...   \n",
       "1974   1579962717  https://www.reddit.com/r/AmItheAsshole/comment...   \n",
       "2695   1579889434  https://www.reddit.com/r/AmItheAsshole/comment...   \n",
       "2718   1579887100  https://www.reddit.com/r/AmItheAsshole/comment...   \n",
       "2719   1579887014  https://www.reddit.com/r/AmItheAsshole/comment...   \n",
       "2750   1579885176  https://www.reddit.com/r/AmItheAsshole/comment...   \n",
       "2771   1579884141  https://www.reddit.com/r/AmItheAsshole/comment...   \n",
       "2786   1579882577  https://www.reddit.com/r/AmItheAsshole/comment...   \n",
       "2839   1579876401  https://www.reddit.com/r/AmItheAsshole/comment...   \n",
       "3726   1579796584  https://www.reddit.com/r/AmItheAsshole/comment...   \n",
       "3743   1579794936  https://www.reddit.com/r/AmItheAsshole/comment...   \n",
       "4452   1579724034  https://www.reddit.com/r/AmItheAsshole/comment...   \n",
       "4871   1579672868  https://www.reddit.com/r/AmItheAsshole/comment...   \n",
       "\n",
       "      total_comments  \n",
       "1354             0.0  \n",
       "1938             0.0  \n",
       "1974             0.0  \n",
       "2695             0.0  \n",
       "2718             0.0  \n",
       "2719             0.0  \n",
       "2750             0.0  \n",
       "2771             0.0  \n",
       "2786             0.0  \n",
       "2839             0.0  \n",
       "3726             0.0  \n",
       "3743             0.0  \n",
       "4452             0.0  \n",
       "4871             0.0  "
      ]
     },
     "execution_count": 18,
     "metadata": {},
     "output_type": "execute_result"
    }
   ],
   "source": [
    "data_submissions.loc[data_submissions['total_comments']==0]"
   ]
  },
  {
   "cell_type": "markdown",
   "metadata": {},
   "source": [
    "### Create the Vote feature in the Comments df\n",
    "find NTA and YTA (or ESH, NAH) in comments, and update vote column to be 1 for YTA/ESH and 0 for NTA/NAH\n"
   ]
  },
  {
   "cell_type": "code",
   "execution_count": 19,
   "metadata": {},
   "outputs": [],
   "source": [
    "import re\n",
    "def findWholeWord(w, comment):\n",
    "    if re.compile(r'\\b({0})\\b'.format(w), flags=re.IGNORECASE).search(comment) != None:\n",
    "        return True\n",
    "    else: \n",
    "        return False\n",
    "# thank you, Hugh Bothwell, adapted from hugh's answer here: \n",
    "#https://stackoverflow.com/questions/5319922/python-check-if-word-is-in-a-string"
   ]
  },
  {
   "cell_type": "code",
   "execution_count": 20,
   "metadata": {},
   "outputs": [],
   "source": [
    "NTA_ids = []\n",
    "YTA_ids = []\n",
    "ESH_ids = []\n",
    "NAH_ids = []\n",
    "neither_ids = []\n",
    "\n",
    "for i,p in enumerate(data_comments['body']):\n",
    "    if findWholeWord('NTA', p):\n",
    "        NTA_ids.append(i)\n",
    "    elif findWholeWord('YTA', p):\n",
    "        YTA_ids.append(i)\n",
    "    elif findWholeWord('ESH', p):\n",
    "        ESH_ids.append(i)\n",
    "    elif findWholeWord('NAH', p):\n",
    "        NAH_ids.append(i)\n",
    "    else:\n",
    "        neither_ids.append(i)       \n"
   ]
  },
  {
   "cell_type": "code",
   "execution_count": 21,
   "metadata": {},
   "outputs": [
    {
     "data": {
      "text/plain": [
       "110494"
      ]
     },
     "execution_count": 21,
     "metadata": {},
     "output_type": "execute_result"
    }
   ],
   "source": [
    "asshole_ids = YTA_ids + ESH_ids\n",
    "not_asshole_ids = NTA_ids + NAH_ids\n",
    "all_voted_ids = asshole_ids + not_asshole_ids\n",
    "\n",
    "\n",
    "len(all_voted_ids)+len(neither_ids)"
   ]
  },
  {
   "cell_type": "code",
   "execution_count": 22,
   "metadata": {},
   "outputs": [
    {
     "name": "stderr",
     "output_type": "stream",
     "text": [
      "/Users/jenabrentano/opt/anaconda3/lib/python3.7/site-packages/ipykernel_launcher.py:2: SettingWithCopyWarning: \n",
      "A value is trying to be set on a copy of a slice from a DataFrame.\n",
      "Try using .loc[row_indexer,col_indexer] = value instead\n",
      "\n",
      "See the caveats in the documentation: http://pandas.pydata.org/pandas-docs/stable/user_guide/indexing.html#returning-a-view-versus-a-copy\n",
      "  \n",
      "/Users/jenabrentano/opt/anaconda3/lib/python3.7/site-packages/ipykernel_launcher.py:5: SettingWithCopyWarning: \n",
      "A value is trying to be set on a copy of a slice from a DataFrame.\n",
      "Try using .loc[row_indexer,col_indexer] = value instead\n",
      "\n",
      "See the caveats in the documentation: http://pandas.pydata.org/pandas-docs/stable/user_guide/indexing.html#returning-a-view-versus-a-copy\n",
      "  \"\"\"\n"
     ]
    }
   ],
   "source": [
    "yta_df = data_comments.iloc[asshole_ids]\n",
    "yta_df['vote'] = 1\n",
    "\n",
    "nta_df = data_comments.iloc[not_asshole_ids]\n",
    "nta_df['vote'] = 0"
   ]
  },
  {
   "cell_type": "code",
   "execution_count": 23,
   "metadata": {},
   "outputs": [
    {
     "data": {
      "text/plain": [
       "(29329, 6)"
      ]
     },
     "execution_count": 23,
     "metadata": {},
     "output_type": "execute_result"
    }
   ],
   "source": [
    "nta_df.shape #(58597, 7)\n",
    "yta_df.shape #(29329, 7)"
   ]
  },
  {
   "cell_type": "code",
   "execution_count": 24,
   "metadata": {},
   "outputs": [],
   "source": [
    "data_comments = pd.concat([nta_df, yta_df], axis=0)"
   ]
  },
  {
   "cell_type": "code",
   "execution_count": 25,
   "metadata": {},
   "outputs": [
    {
     "data": {
      "text/plain": [
       "(87926, 6)"
      ]
     },
     "execution_count": 25,
     "metadata": {},
     "output_type": "execute_result"
    }
   ],
   "source": [
    "data_comments.shape"
   ]
  },
  {
   "cell_type": "code",
   "execution_count": 26,
   "metadata": {},
   "outputs": [],
   "source": [
    "data_comments.reset_index(inplace=True, drop=True)"
   ]
  },
  {
   "cell_type": "markdown",
   "metadata": {},
   "source": [
    "### Tally the votes"
   ]
  },
  {
   "cell_type": "markdown",
   "metadata": {},
   "source": [
    "Modify below to count vote*score instead - can't do actually because score data didn't come in :("
   ]
  },
  {
   "cell_type": "code",
   "execution_count": 27,
   "metadata": {},
   "outputs": [],
   "source": [
    "no_comments_ids = []\n",
    "asshole_parent_ids = []\n",
    "not_asshole_parent_ids = []\n",
    "toss_up_parent_ids = []\n",
    "\n",
    "for i in parent_ids:\n",
    "#     votes_yta = data_comments['vote'][(data_comments['parent'] == i) & (data_comments['vote'] == 1)].count()\n",
    "#     votes_nta = data_comments['vote'][(data_comments['parent'] == i) & (data_comments['vote'] == 0)].count()\n",
    "#     total_votes = data_comments['vote'][data_comments['parent'] == i].count()\n",
    "\n",
    "    votes_yta = data_comments['vote'][(data_comments['parent'] == i) & (data_comments['vote'] == 1)].count()\n",
    "    votes_nta = data_comments['vote'][(data_comments['parent'] == i) & (data_comments['vote'] == 0)].count()\n",
    "    total_votes = data_comments['vote'][data_comments['parent'] == i].count()\n",
    "\n",
    "\n",
    "    if total_votes == 0:\n",
    "        no_comments_ids.append(i)\n",
    "        \n",
    "    else:\n",
    "        if votes_nta < votes_yta:\n",
    "            asshole_parent_ids.append(i)\n",
    "        elif votes_nta > votes_yta:\n",
    "            not_asshole_parent_ids.append(i)\n",
    "        else:\n",
    "            toss_up_parent_ids.append(i)\n"
   ]
  },
  {
   "cell_type": "code",
   "execution_count": 28,
   "metadata": {
    "scrolled": true
   },
   "outputs": [
    {
     "data": {
      "text/plain": [
       "1308"
      ]
     },
     "execution_count": 28,
     "metadata": {},
     "output_type": "execute_result"
    }
   ],
   "source": [
    "len(no_comments_ids)"
   ]
  },
  {
   "cell_type": "code",
   "execution_count": 29,
   "metadata": {
    "scrolled": false
   },
   "outputs": [
    {
     "data": {
      "text/plain": [
       "857"
      ]
     },
     "execution_count": 29,
     "metadata": {},
     "output_type": "execute_result"
    }
   ],
   "source": [
    "len(asshole_parent_ids)"
   ]
  },
  {
   "cell_type": "code",
   "execution_count": 30,
   "metadata": {},
   "outputs": [
    {
     "data": {
      "text/plain": [
       "2679"
      ]
     },
     "execution_count": 30,
     "metadata": {},
     "output_type": "execute_result"
    }
   ],
   "source": [
    "len(not_asshole_parent_ids)"
   ]
  },
  {
   "cell_type": "code",
   "execution_count": 31,
   "metadata": {},
   "outputs": [
    {
     "data": {
      "text/plain": [
       "156"
      ]
     },
     "execution_count": 31,
     "metadata": {},
     "output_type": "execute_result"
    }
   ],
   "source": [
    "len(toss_up_parent_ids)"
   ]
  },
  {
   "cell_type": "code",
   "execution_count": 32,
   "metadata": {
    "scrolled": true
   },
   "outputs": [
    {
     "data": {
      "text/plain": [
       "5000"
      ]
     },
     "execution_count": 32,
     "metadata": {},
     "output_type": "execute_result"
    }
   ],
   "source": [
    "len(no_comments_ids) + len(asshole_parent_ids) + len(not_asshole_parent_ids) + len(toss_up_parent_ids)"
   ]
  },
  {
   "cell_type": "markdown",
   "metadata": {},
   "source": [
    "### Create final vote feature for submissions"
   ]
  },
  {
   "cell_type": "code",
   "execution_count": 33,
   "metadata": {},
   "outputs": [],
   "source": [
    "asshole_parent_ids[:5]\n",
    "data_submissions['vote'] = ''\n"
   ]
  },
  {
   "cell_type": "code",
   "execution_count": 34,
   "metadata": {},
   "outputs": [],
   "source": [
    "df_yta = data_submissions.loc[data_submissions['id'].isin(asshole_parent_ids),:]\n",
    "df_nta = data_submissions.loc[data_submissions['id'].isin(not_asshole_parent_ids),:]"
   ]
  },
  {
   "cell_type": "code",
   "execution_count": 35,
   "metadata": {
    "scrolled": true
   },
   "outputs": [
    {
     "name": "stderr",
     "output_type": "stream",
     "text": [
      "/Users/jenabrentano/opt/anaconda3/lib/python3.7/site-packages/ipykernel_launcher.py:1: SettingWithCopyWarning: \n",
      "A value is trying to be set on a copy of a slice from a DataFrame.\n",
      "Try using .loc[row_indexer,col_indexer] = value instead\n",
      "\n",
      "See the caveats in the documentation: http://pandas.pydata.org/pandas-docs/stable/user_guide/indexing.html#returning-a-view-versus-a-copy\n",
      "  \"\"\"Entry point for launching an IPython kernel.\n",
      "/Users/jenabrentano/opt/anaconda3/lib/python3.7/site-packages/ipykernel_launcher.py:2: SettingWithCopyWarning: \n",
      "A value is trying to be set on a copy of a slice from a DataFrame.\n",
      "Try using .loc[row_indexer,col_indexer] = value instead\n",
      "\n",
      "See the caveats in the documentation: http://pandas.pydata.org/pandas-docs/stable/user_guide/indexing.html#returning-a-view-versus-a-copy\n",
      "  \n"
     ]
    }
   ],
   "source": [
    "df_yta['vote'] = 1\n",
    "df_nta['vote'] = 0"
   ]
  },
  {
   "cell_type": "markdown",
   "metadata": {},
   "source": [
    "### Got rid of ties in final df"
   ]
  },
  {
   "cell_type": "code",
   "execution_count": 36,
   "metadata": {},
   "outputs": [],
   "source": [
    "df = pd.concat([df_yta, df_nta], axis=0)"
   ]
  },
  {
   "cell_type": "code",
   "execution_count": 37,
   "metadata": {},
   "outputs": [
    {
     "data": {
      "text/plain": [
       "(3536, 13)"
      ]
     },
     "execution_count": 37,
     "metadata": {},
     "output_type": "execute_result"
    }
   ],
   "source": [
    "df.reset_index(inplace=True, drop=True)\n",
    "df.shape"
   ]
  },
  {
   "cell_type": "code",
   "execution_count": 38,
   "metadata": {
    "scrolled": false
   },
   "outputs": [],
   "source": [
    "df.vote.value_counts()\n",
    "df_final = df.loc[:,['id','title','selftext','total_comments','vote']]"
   ]
  },
  {
   "cell_type": "code",
   "execution_count": 39,
   "metadata": {},
   "outputs": [],
   "source": [
    "# df_yta.to_csv('./datasets/yta_4.csv')\n",
    "#df_nta.to_csv('./datasets/nta_4.csv')\n",
    "\n",
    "#df_final.to_csv('./datasets/final_2.csv', index=False)\n"
   ]
  },
  {
   "cell_type": "code",
   "execution_count": 40,
   "metadata": {},
   "outputs": [],
   "source": [
    "#tie_comments = data_comments.loc[data_comments['parent'].isin(toss_up_parent_ids), :]\n",
    "#pd.options.display.max_rows = 999\n",
    "# pd.set_option('display.max_colwidth', 150)\n",
    "# tie_comments[['body', 'parent','vote']].sort_values(by='parent')"
   ]
  }
 ],
 "metadata": {
  "kernelspec": {
   "display_name": "Python 3",
   "language": "python",
   "name": "python3"
  },
  "language_info": {
   "codemirror_mode": {
    "name": "ipython",
    "version": 3
   },
   "file_extension": ".py",
   "mimetype": "text/x-python",
   "name": "python",
   "nbconvert_exporter": "python",
   "pygments_lexer": "ipython3",
   "version": "3.7.4"
  }
 },
 "nbformat": 4,
 "nbformat_minor": 2
}
